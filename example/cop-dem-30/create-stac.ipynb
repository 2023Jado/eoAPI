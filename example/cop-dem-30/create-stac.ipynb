{
 "cells": [
  {
   "cell_type": "code",
   "execution_count": 3,
   "id": "49f24cd4-b067-4e77-80cd-ac20eacc48e2",
   "metadata": {},
   "outputs": [
    {
     "data": {
      "text/plain": [
       "[<Link rel=item target=<Item id=Copernicus_DSM_COG_10_S01_00_E030_00_DEM>>,\n",
       " <Link rel=item target=<Item id=Copernicus_DSM_COG_10_S02_00_E031_00_DEM>>]"
      ]
     },
     "execution_count": 3,
     "metadata": {},
     "output_type": "execute_result"
    }
   ],
   "source": [
    "from pathlib import Path\n",
    "from pystac import CatalogType\n",
    "from stactools.cop_dem import stac\n",
    "\n",
    "tiles = Path(\"./data/\")\n",
    "collection_name = \"glo-30\"\n",
    "collection = stac.create_collection(collection_name)\n",
    "aa = int(str.split(collection_name, \"-\")[1]) // 3\n",
    "items = [stac.create_item(str(p)) for p in tiles.glob(f\"*/*.tif\")]\n",
    "collection.add_items(items)"
   ]
  }
 ],
 "metadata": {
  "kernelspec": {
   "display_name": "Python 3 (ipykernel)",
   "language": "python",
   "name": "python3"
  },
  "language_info": {
   "codemirror_mode": {
    "name": "ipython",
    "version": 3
   },
   "file_extension": ".py",
   "mimetype": "text/x-python",
   "name": "python",
   "nbconvert_exporter": "python",
   "pygments_lexer": "ipython3",
   "version": "3.12.8"
  }
 },
 "nbformat": 4,
 "nbformat_minor": 5
}
